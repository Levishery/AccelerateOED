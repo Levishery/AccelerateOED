{
 "cells": [
  {
   "cell_type": "code",
   "execution_count": 38,
   "metadata": {},
   "outputs": [],
   "source": [
    "import torch\n",
    "import copy\n",
    "a = torch.rand((1, 1, 3, 10), requires_grad=True)\n",
    "b = torch.tensor([[[[1, 1, 0], [1, 1, 0], [0, 0, 1]]]], dtype=torch.float, requires_grad=True)\n",
    "c = b @ a\n",
    "d = copy.deepcopy(b) # necessarily use deepcopy\n",
    "e = d @ c\n",
    "w = torch.rand((10, 2), requires_grad=True)\n",
    "o = e.mean(dim=2) @ w"
   ]
  },
  {
   "cell_type": "code",
   "execution_count": 39,
   "metadata": {},
   "outputs": [
    {
     "data": {
      "text/plain": [
       "tensor([13.1212,  7.1383], grad_fn=<SqueezeBackward0>)"
      ]
     },
     "execution_count": 39,
     "metadata": {},
     "output_type": "execute_result"
    }
   ],
   "source": [
    "o.squeeze()"
   ]
  },
  {
   "cell_type": "code",
   "execution_count": 40,
   "metadata": {},
   "outputs": [
    {
     "data": {
      "text/plain": [
       "(tensor([[[[1.6147, 1.6147, 0.6795],\n",
       "           [1.6147, 1.6147, 0.6795],\n",
       "           [1.6147, 1.6147, 0.6795]]]], grad_fn=<ViewBackward>),)"
      ]
     },
     "metadata": {},
     "output_type": "display_data"
    },
    {
     "name": "stdout",
     "output_type": "stream",
     "text": [
      "tensor([[1.6147]], grad_fn=<MulBackward0>)\n"
     ]
    }
   ],
   "source": [
    "grads = torch.autograd.grad(outputs=torch.unbind(o.squeeze()[1:]), inputs=d, create_graph=True)\n",
    "display(grads)\n",
    "grad_d11 = grads[0][:, :, 1, 1]\n",
    "r11 = grad_d11 * d[:, :, 1, 1]\n",
    "print(r11)"
   ]
  },
  {
   "cell_type": "code",
   "execution_count": 41,
   "metadata": {},
   "outputs": [
    {
     "name": "stdout",
     "output_type": "stream",
     "text": [
      "(tensor([[[[0.0000, 0.0000, 0.0000],\n",
      "          [0.9291, 0.6856, 0.6795],\n",
      "          [0.0000, 0.0000, 0.0000]]]], grad_fn=<ViewBackward>),)\n",
      "tensor([[0.]], grad_fn=<MulBackward0>)\n"
     ]
    }
   ],
   "source": [
    "grads2 = torch.autograd.grad(outputs=r11.squeeze(), inputs=b, create_graph=True)\n",
    "print(grads2)\n",
    "grad_b12 = grads2[0][:, :, 1, 2]\n",
    "r211 = grad_b12 * b[:, :, 1, 2]\n",
    "print(r211)"
   ]
  },
  {
   "cell_type": "code",
   "execution_count": null,
   "metadata": {},
   "outputs": [],
   "source": []
  }
 ],
 "metadata": {
  "kernelspec": {
   "display_name": "Python 3",
   "language": "python",
   "name": "python3"
  },
  "language_info": {
   "codemirror_mode": {
    "name": "ipython",
    "version": 3
   },
   "file_extension": ".py",
   "mimetype": "text/x-python",
   "name": "python",
   "nbconvert_exporter": "python",
   "pygments_lexer": "ipython3",
   "version": "3.8.3"
  }
 },
 "nbformat": 4,
 "nbformat_minor": 4
}
